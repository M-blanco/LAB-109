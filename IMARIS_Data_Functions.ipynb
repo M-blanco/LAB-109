{
 "cells": [
  {
   "cell_type": "code",
   "execution_count": 47,
   "metadata": {},
   "outputs": [],
   "source": [
    "root_directory= r'C:\\Users\\Usuario\\OneDrive\\Escritorio\\368'"
   ]
  },
  {
   "cell_type": "markdown",
   "metadata": {},
   "source": [
    "## Extraer archivos desde carpeta"
   ]
  },
  {
   "cell_type": "code",
   "execution_count": 2,
   "metadata": {},
   "outputs": [],
   "source": [
    "keyword_EB = \"EB\"\n",
    "keyword_IB4= \"IB4\"\n",
    "keyword_iba1= \"IBA1\""
   ]
  },
  {
   "cell_type": "markdown",
   "metadata": {},
   "source": [
    "1. Asegurarse de que en root directory está la carpeta de la muestra que queremos\n",
    "2. Modificar keyword (\"if filename.endswith('csv') and *keyword_iba1* in filename\"), la función va a seleccionar todos los archivos que tengan el keyword en su titulo, asegurarse de que el archivo solo tenga el nombre de un marcaje\n",
    "3. cada vez que se ejecute la funcion la lista de dataframes se va a reiniciar, por lo que hay que pasar al siguiente paso."
   ]
  },
  {
   "cell_type": "code",
   "execution_count": 54,
   "metadata": {},
   "outputs": [
    {
     "name": "stdout",
     "output_type": "stream",
     "text": [
      "Procesando archivo: C:\\Users\\Usuario\\OneDrive\\Escritorio\\368\\1\\368 APP PLX  2 b 0_5 IBA1 25x xyz_Statistics\\368 APP PLX  2 b 0_5 IBA1 25x xyz_Detailed.csv\n",
      "       Area   Unit Category  Time   ID  Unnamed: 5\n",
      "0   135.413  Âµm^2  Surface     1  124         NaN\n",
      "1   147.725  Âµm^2  Surface     1  133         NaN\n",
      "2  1106.870  Âµm^2  Surface     1  170         NaN\n",
      "3  3853.970  Âµm^2  Surface     1  173         NaN\n",
      "4  1327.030  Âµm^2  Surface     1  183         NaN\n",
      "Procesando archivo: C:\\Users\\Usuario\\OneDrive\\Escritorio\\368\\10\\1\\368 APP PLX 8 b 0_5  IBA1 25x xyz_Statistics\\368 APP PLX 8 b 0_5  IBA1 25x xyz_Detailed.csv\n",
      "       Area   Unit Category  Time  ID  Unnamed: 5\n",
      "0   4.88323  Âµm^2  Surface     1  28         NaN\n",
      "1  11.62560  Âµm^2  Surface     1  29         NaN\n",
      "2   6.13932  Âµm^2  Surface     1  30         NaN\n",
      "3  70.04490  Âµm^2  Surface     1  31         NaN\n",
      "4  29.94590  Âµm^2  Surface     1  32         NaN\n",
      "Procesando archivo: C:\\Users\\Usuario\\OneDrive\\Escritorio\\368\\10\\2\\368 APP PLX 8 b 0_5  IBA1 25x xyz_Statistics\\368 APP PLX 8 b 0_5  IBA1 25x xyz_Detailed.csv\n",
      "       Area   Unit Category  Time   ID  Unnamed: 5\n",
      "0   19.3428  Âµm^2  Surface     1  167         NaN\n",
      "1   12.5011  Âµm^2  Surface     1  168         NaN\n",
      "2   11.3337  Âµm^2  Surface     1  169         NaN\n",
      "3   51.6102  Âµm^2  Surface     1  170         NaN\n",
      "4  110.7640  Âµm^2  Surface     1  171         NaN\n",
      "Procesando archivo: C:\\Users\\Usuario\\OneDrive\\Escritorio\\368\\2\\368 APP PLX  9 b 0_5  IBA1 25x xyz_Statistics\\368 APP PLX  9 b 0_5  IBA1 25x xyz_Detailed.csv\n",
      "       Area   Unit Category  Time   ID  Unnamed: 5\n",
      "0   205.635  Âµm^2  Surface     1  315         NaN\n",
      "1  1226.370  Âµm^2  Surface     1  322         NaN\n",
      "2   204.954  Âµm^2  Surface     1  324         NaN\n",
      "3   198.369  Âµm^2  Surface     1  326         NaN\n",
      "4   203.777  Âµm^2  Surface     1  353         NaN\n",
      "Procesando archivo: C:\\Users\\Usuario\\OneDrive\\Escritorio\\368\\3\\A\\368 APP PLX  10 b 0_5  IBA1  25x xyz_Statistics\\368 APP PLX  10 b 0_5  DAPI EB IBA1  25x xyz_Detailed.csv\n",
      "       Area   Unit Category  Time   ID  Unnamed: 5\n",
      "0  1249.210  Âµm^2  Surface     1  217         NaN\n",
      "1   126.301  Âµm^2  Surface     1  225         NaN\n",
      "2  2765.870  Âµm^2  Surface     1  265         NaN\n",
      "3   105.776  Âµm^2  Surface     1  271         NaN\n",
      "4   102.973  Âµm^2  Surface     1  277         NaN\n",
      "Procesando archivo: C:\\Users\\Usuario\\OneDrive\\Escritorio\\368\\3\\B\\368 APP PLX  10 b 0_5  IBA1 25x xyz_Statistics\\368 APP PLX  10 b 0_5  IBA1 25x xyz_Detailed.csv\n",
      "       Area   Unit Category  Time   ID  Unnamed: 5\n",
      "0   350.246  Âµm^2  Surface     1  112         NaN\n",
      "1   585.796  Âµm^2  Surface     1  116         NaN\n",
      "2   929.862  Âµm^2  Surface     1  140         NaN\n",
      "3  1325.030  Âµm^2  Surface     1  152         NaN\n",
      "4  1349.820  Âµm^2  Surface     1  153         NaN\n",
      "Procesando archivo: C:\\Users\\Usuario\\OneDrive\\Escritorio\\368\\4\\368 APP PLX 1 b 0_5  IBA1 25x xyz_Statistics\\368 APP PLX 1 b 0_5  IBA1 25x xyz_Detailed.csv\n",
      "      Area   Unit Category  Time   ID  Unnamed: 5\n",
      "0  154.112  Âµm^2  Surface     1  889         NaN\n",
      "1  115.801  Âµm^2  Surface     1  894         NaN\n",
      "2  503.241  Âµm^2  Surface     1  907         NaN\n",
      "3  646.304  Âµm^2  Surface     1  911         NaN\n",
      "4  151.857  Âµm^2  Surface     1  921         NaN\n",
      "Procesando archivo: C:\\Users\\Usuario\\OneDrive\\Escritorio\\368\\5\\1\\368 APP PLX 3  b 0_5  IBA1 25x xyz_Statistics\\368 APP PLX 3  b 0_5  IBA1 25x xyz_Detailed.csv\n",
      "       Area   Unit Category  Time  ID  Unnamed: 5\n",
      "0   3.20164  Âµm^2  Surface     1  62         NaN\n",
      "1  28.56660  Âµm^2  Surface     1  63         NaN\n",
      "2   5.46564  Âµm^2  Surface     1  64         NaN\n",
      "3  33.45090  Âµm^2  Surface     1  65         NaN\n",
      "4  14.61000  Âµm^2  Surface     1  66         NaN\n",
      "Procesando archivo: C:\\Users\\Usuario\\OneDrive\\Escritorio\\368\\5\\2\\368 APP PLX 3  b 0_5  IBA1 25x xyz_Statistics\\368 APP PLX 3  b 0_5  IBA1 25x xyz_Detailed.csv\n",
      "       Area   Unit Category  Time  ID  Unnamed: 5\n",
      "0   15.0493  Âµm^2  Surface     1  29         NaN\n",
      "1   12.6373  Âµm^2  Surface     1  30         NaN\n",
      "2    0.5483  Âµm^2  Surface     1  31         NaN\n",
      "3   37.6127  Âµm^2  Surface     1  32         NaN\n",
      "4  404.9780  Âµm^2  Surface     1  33         NaN\n",
      "Procesando archivo: C:\\Users\\Usuario\\OneDrive\\Escritorio\\368\\6\\1\\368 APP PLX 4  b 0_5  IBA1  25x xyz_Statistics\\368 APP PLX 4  b 0_5  IBA1  25x xyz_Detailed.csv\n",
      "        Area   Unit Category  Time  ID  Unnamed: 5\n",
      "0    1.49694  Âµm^2  Surface     1  54         NaN\n",
      "1   56.36280  Âµm^2  Surface     1  55         NaN\n",
      "2   12.56600  Âµm^2  Surface     1  56         NaN\n",
      "3   46.43490  Âµm^2  Surface     1  57         NaN\n",
      "4  156.95000  Âµm^2  Surface     1  58         NaN\n",
      "Procesando archivo: C:\\Users\\Usuario\\OneDrive\\Escritorio\\368\\6\\2\\368 APP PLX 4  b 0_5  IBA1  25x xyz_Statistics\\368 APP PLX 4  b 0_5  IBA1  25x xyz_Detailed.csv\n",
      "       Area   Unit Category  Time   ID  Unnamed: 5\n",
      "0   4.31177  Âµm^2  Surface     1  185         NaN\n",
      "1   2.38682  Âµm^2  Surface     1  186         NaN\n",
      "2  14.87690  Âµm^2  Surface     1  187         NaN\n",
      "3   8.83439  Âµm^2  Surface     1  188         NaN\n",
      "4  34.35630  Âµm^2  Surface     1  189         NaN\n",
      "Procesando archivo: C:\\Users\\Usuario\\OneDrive\\Escritorio\\368\\7\\368 APP PLX 5  b 0_5  IBA1  25x xyz_Statistics\\368 APP PLX 5  b 0_5  IBA1  25x xyz_Detailed.csv\n",
      "       Area   Unit Category  Time   ID  Unnamed: 5\n",
      "0   8.55886  Âµm^2  Surface     1  339         NaN\n",
      "1  18.31580  Âµm^2  Surface     1  340         NaN\n",
      "2   8.75061  Âµm^2  Surface     1  341         NaN\n",
      "3   2.87774  Âµm^2  Surface     1  342         NaN\n",
      "4  19.38770  Âµm^2  Surface     1  343         NaN\n",
      "Procesando archivo: C:\\Users\\Usuario\\OneDrive\\Escritorio\\368\\8\\368 APP PLX 5  b 0_5  IBA1  25x xyz_Statistics\\368 APP PLX 5  b 0_5  IBA1  25x xyz_Detailed.csv\n",
      "       Area   Unit Category  Time   ID  Unnamed: 5\n",
      "0   8.55886  Âµm^2  Surface     1  339         NaN\n",
      "1  18.31580  Âµm^2  Surface     1  340         NaN\n",
      "2   8.75061  Âµm^2  Surface     1  341         NaN\n",
      "3   2.87774  Âµm^2  Surface     1  342         NaN\n",
      "4  19.38770  Âµm^2  Surface     1  343         NaN\n",
      "Procesando archivo: C:\\Users\\Usuario\\OneDrive\\Escritorio\\368\\9\\1\\368 APP PLX 7 b 0_5  IBA1 25x xyz_Statistics\\368 APP PLX 7 b 0_5  IBA1 25x xyz_Detailed.csv\n",
      "       Area   Unit Category  Time   ID  Unnamed: 5\n",
      "0  161.1150  Âµm^2  Surface     1  115         NaN\n",
      "1   14.2681  Âµm^2  Surface     1  116         NaN\n",
      "2   56.9219  Âµm^2  Surface     1  117         NaN\n",
      "3   29.8371  Âµm^2  Surface     1  118         NaN\n",
      "4   62.1732  Âµm^2  Surface     1  119         NaN\n",
      "Procesando archivo: C:\\Users\\Usuario\\OneDrive\\Escritorio\\368\\9\\2\\368 APP PLX 7 b 0_5  IBA1  25x xyz_Statistics\\368 APP PLX 7 b 0_5  IBA1  25x xyz_Detailed.csv\n",
      "        Area   Unit Category  Time   ID  Unnamed: 5\n",
      "0  14.053400  Âµm^2  Surface     1  145         NaN\n",
      "1  78.297200  Âµm^2  Surface     1  146         NaN\n",
      "2   7.022610  Âµm^2  Surface     1  147         NaN\n",
      "3  11.990300  Âµm^2  Surface     1  148         NaN\n",
      "4   0.405221  Âµm^2  Surface     1  149         NaN\n"
     ]
    }
   ],
   "source": [
    "import pandas as pd\n",
    "import os\n",
    "\n",
    "dataframes = []\n",
    "\n",
    "for subdir, dirs, files in os.walk(root_directory):\n",
    "    for filename in files:\n",
    "        if filename.endswith('csv') and keyword_iba1 in filename:\n",
    "            filepath = os.path.join(subdir, filename)\n",
    "            print(f\"Procesando archivo: {filepath}\")  # Agregar declaración de impresión\n",
    "            try:\n",
    "                # Leer cada archivo CSV y añadirlo a la lista de dataframes\n",
    "                df = pd.read_csv(filepath, encoding='latin1', skiprows=3, on_bad_lines='skip')\n",
    "                #Limpiar DF\n",
    "                df = df[~df.astype(str).apply(lambda x: x.str.contains('=')).any(axis=1)]\n",
    "                print(df.head())\n",
    "                dataframes.append(df)\n",
    "            except Exception as e:\n",
    "                print(f\"Error al procesar el archivo {filepath}: {e}\")"
   ]
  },
  {
   "cell_type": "code",
   "execution_count": null,
   "metadata": {},
   "outputs": [],
   "source": []
  },
  {
   "cell_type": "markdown",
   "metadata": {},
   "source": [
    "La función individualizar agrupa la lista de excels que han salido de la función anterior y los agrupa, generando un solo excel en el que cada fila es el valor de un marcaje para una placa.\n",
    "\n",
    "En sample_type poner el tipo de marcaje"
   ]
  },
  {
   "cell_type": "code",
   "execution_count": 55,
   "metadata": {},
   "outputs": [],
   "source": [
    "sample_type = \"IBA1\""
   ]
  },
  {
   "cell_type": "code",
   "execution_count": 6,
   "metadata": {},
   "outputs": [],
   "source": [
    "def Individualizar (dataframes_lista, sample_type):\n",
    "    area_total_individual_lista = []\n",
    "    for df in dataframes_lista:\n",
    "        area_total_individual = df['Area'].sum()\n",
    "        area_total_individual_lista.append(pd.DataFrame({f'Area_Total_{sample_type}' : [area_total_individual] }))\n",
    "\n",
    "    \n",
    "    return pd.concat(area_total_individual_lista, ignore_index=True)\n",
    "    "
   ]
  },
  {
   "cell_type": "code",
   "execution_count": null,
   "metadata": {},
   "outputs": [],
   "source": [
    "#Como usar:\n",
    "\n",
    "#Nombre de mi dataframe# = Individualizar (#dataframes, sample_type)"
   ]
  },
  {
   "cell_type": "code",
   "execution_count": 56,
   "metadata": {},
   "outputs": [],
   "source": [
    "IBA1_368 = Individualizar(dataframes, sample_type)"
   ]
  },
  {
   "cell_type": "markdown",
   "metadata": {},
   "source": [
    "# Combinar DF"
   ]
  },
  {
   "cell_type": "markdown",
   "metadata": {},
   "source": [
    "Combina un DF de IB4 y otro de iba1, idealmente de la misma muestra, genera un nuevo df con ambas columnas y otra que saca la relación IB4/IBA1\n",
    "\n",
    "*Vigilar que siempre en el primer df sea IB4, y el segundo IBA1, si no hará la división al revés*"
   ]
  },
  {
   "cell_type": "code",
   "execution_count": 17,
   "metadata": {},
   "outputs": [],
   "source": [
    "def create_combined_df(df1, df2, sample_number):\n",
    "    # Combinar los dos DataFrames\n",
    "    combined_df = pd.concat([df1, df2], axis=1)\n",
    "\n",
    "    \n",
    "    \n",
    "    # Renombrar columnas para evitar conflictos\n",
    "    combined_df.columns = [f'{col}_{sample_number}' for col in df1.columns] + [f'{col}_{sample_number}' for col in df2.columns]\n",
    "    \n",
    "    # Crear la columna IB4/IBA1[Nºmuestra]\n",
    "    combined_df[f'IB4/IBA1_{sample_number}'] = combined_df.iloc[:, 0] / combined_df.iloc[:, len(df1.columns)]\n",
    "    \n",
    "    # Renombrar el DataFrame\n",
    "    combined_df.name = f'PRUEBA_{sample_number}'\n",
    "    \n",
    "    return combined_df"
   ]
  },
  {
   "cell_type": "code",
   "execution_count": null,
   "metadata": {},
   "outputs": [],
   "source": [
    "IB4_IBA1_354 = create_combined_df(IB4_354, IBA1_354, 354)"
   ]
  },
  {
   "cell_type": "code",
   "execution_count": 59,
   "metadata": {},
   "outputs": [],
   "source": [
    "IB4_IBA1_368 = create_combined_df(IB4_368, IBA1_368, 368)"
   ]
  },
  {
   "cell_type": "code",
   "execution_count": 93,
   "metadata": {},
   "outputs": [],
   "source": [
    "import matplotlib.pyplot as plt\n",
    "import seaborn as sns\n",
    "import pandas as pd\n",
    "from sklearn.linear_model import LinearRegression\n",
    "from sklearn.metrics import r2_score\n",
    "\n",
    "def Correlation(df, column_1, column_2, nombre):\n",
    "    # Calcular la correlación (coeficiente de correlación de Pearson)\n",
    "    correlation = df.iloc[:, column_1].corr(df.iloc[:, column_2])\n",
    "    print(f'Correlación entre {df.columns[column_1]} y {df.columns[column_2]}: {correlation}')\n",
    "\n",
    "    # Calcular el coeficiente de determinación R^2\n",
    "    x = df.iloc[:, column_1].values.reshape(-1, 1)\n",
    "    y = df.iloc[:, column_2].values.reshape(-1, 1)\n",
    "    model = LinearRegression()\n",
    "    model.fit(x, y)\n",
    "    y_pred = model.predict(x)\n",
    "    r2 = r2_score(y, y_pred)\n",
    "    print(f'R^2: {r2}')\n",
    "\n",
    "    # Obtener los coeficientes de la recta\n",
    "    intercept = model.intercept_[0]\n",
    "    slope = model.coef_[0][0]\n",
    "\n",
    "    # Crear el gráfico de dispersión con una línea de regresión\n",
    "    plt.figure(figsize=(10, 6))\n",
    "    sns.scatterplot(x=df.iloc[:, column_1], y=df.iloc[:, column_2], s=50, alpha=1)\n",
    "    sns.lineplot(x=df.iloc[:, column_1], y=y_pred.flatten(), color='red')\n",
    "\n",
    "    # Anotar el R^2, r y la ecuación de la recta en el gráfico\n",
    "    plt.text(0.05, 0.95, f'$r = {correlation:.3f}$\\n$R^2 = {r2:.3f}$\\n$y = {slope:.3f}x + {intercept:.3f}$',\n",
    "             transform=plt.gca().transAxes, fontsize=17, verticalalignment='top')\n",
    "\n",
    "    plt.tick_params(axis='both', which='major', labelsize=20)\n",
    "\n",
    "\n",
    "    # Título del gráfico\n",
    "    plt.title(nombre)\n",
    "    \n",
    "    # Mostrar el gráfico\n",
    "    plt.show()"
   ]
  },
  {
   "cell_type": "code",
   "execution_count": 95,
   "metadata": {},
   "outputs": [
    {
     "name": "stdout",
     "output_type": "stream",
     "text": [
      "Correlación entre Area_Total_IBA1_368 y Area_Total_IB4_368: 0.7409662779202045\n",
      "R^2: 0.5490310250149218\n"
     ]
    },
    {
     "data": {
      "image/png": "[encoded data removed]",
      "text/plain": [
       "<Figure size 1000x600 with 1 Axes>"
      ]
     },
     "metadata": {},
     "output_type": "display_data"
    }
   ],
   "source": [
    "Correlation(IB4_IBA1_368, 1, 0, \"Correlación IB4 IBA1 en APP751SL PLX\" )"
   ]
  },
  {
   "cell_type": "markdown",
   "metadata": {},
   "source": [
    "# Combinar columnas y hacer test estadísticos"
   ]
  },
  {
   "cell_type": "markdown",
   "metadata": {},
   "source": [
    "La función compara columnas de dos dataframes distintos (de muestras distintas), realiza el shapiro para normalidad, si ambas son normales hace t-test y si no Mann-Whitney, p-valor <0.05\n",
    "\n",
    "Si por ejemplo quiero comparar carga de IB4 en mis dos muestras, suponiendo que tengo IB4 en la columna 1 de ambos df:\n",
    "\n",
    "combine_columns_and_test (df_muestracontrol, df_muestraPLX, 1)"
   ]
  },
  {
   "cell_type": "code",
   "execution_count": 84,
   "metadata": {},
   "outputs": [],
   "source": [
    "import pandas as pd\n",
    "from scipy import stats\n",
    "\n",
    "\n",
    "\n",
    "def combine_columns_and_test(df1, df2, col_number):\n",
    "    # Combinar la columna 3 de los dos DataFrames, conservando los nombres de las columnas originales\n",
    "    combined_df = pd.concat([df1.iloc[:, col_number], df2.iloc[:, col_number]], axis=1)\n",
    "    combined_df = combined_df.dropna()\n",
    "    print(combined_df.head())\n",
    "\n",
    "    combined_df.columns = [df1.columns[col_number], df2.columns[col_number]]\n",
    "\n",
    "    # Realizar el test de Shapiro-Wilk para normalidad\n",
    "    shapiro_results = {}\n",
    "    for col in combined_df.columns:\n",
    "        stat, p_value = stats.shapiro(combined_df[col])\n",
    "        shapiro_results[col] = {\n",
    "            'statistic': stat,\n",
    "            'p_value': p_value,\n",
    "            'is_normal': p_value > 0.05\n",
    "        }\n",
    "    print(shapiro_results)\n",
    "    # Mostrar resultados del test de Shapiro-Wilk\n",
    "    for col, result in shapiro_results.items():\n",
    "        print(f\"Shapiro-Wilk test for {col}:\")\n",
    "        print(f\"  Statistic: {result['statistic']}\")\n",
    "        print(f\"  P-value: {result['p_value']}\")\n",
    "        print(f\"  Is normal: {result['is_normal']}\")\n",
    "\n",
    "    # Realizar el test t de Student o el test de Mann-Whitney\n",
    "    if all(result['is_normal'] for result in shapiro_results.values()):\n",
    "        test_name = 'T-test'\n",
    "        stat, p_value = stats.ttest_ind(combined_df.iloc[:, 0], combined_df.iloc[:, 1])\n",
    "    else:\n",
    "        test_name = 'Mann-Whitney U test'\n",
    "        stat, p_value = stats.mannwhitneyu(combined_df.iloc[:, 0], combined_df.iloc[:, 1], method=\"exact\")\n",
    "    \n",
    "    # Mostrar resultados del test de comparación\n",
    "    print(f\"\\n{test_name}:\")\n",
    "    print(f\"  Statistic: {stat}\")\n",
    "    print(f\"  P-value: {p_value}\")\n",
    "    print(f\"  Is there a significant difference: {p_value < 0.05}\")"
   ]
  },
  {
   "cell_type": "markdown",
   "metadata": {},
   "source": []
  },
  {
   "cell_type": "code",
   "execution_count": 86,
   "metadata": {},
   "outputs": [
    {
     "name": "stdout",
     "output_type": "stream",
     "text": [
      "   Area_Total_IBA1_368  Area_Total_IBA1_354\n",
      "0         19385.752000         47870.643421\n",
      "1          5010.255235         22238.172287\n",
      "2         26169.903020          7215.625330\n",
      "3         56962.181000         29435.456205\n",
      "4         41045.452000         44856.899036\n",
      "{'Area_Total_IBA1_368': {'statistic': 0.9621504545211792, 'p_value': 0.7583035230636597, 'is_normal': True}, 'Area_Total_IBA1_354': {'statistic': 0.7073798179626465, 'p_value': 0.00044102015090174973, 'is_normal': False}}\n",
      "Shapiro-Wilk test for Area_Total_IBA1_368:\n",
      "  Statistic: 0.9621504545211792\n",
      "  P-value: 0.7583035230636597\n",
      "  Is normal: True\n",
      "Shapiro-Wilk test for Area_Total_IBA1_354:\n",
      "  Statistic: 0.7073798179626465\n",
      "  P-value: 0.00044102015090174973\n",
      "  Is normal: False\n",
      "\n",
      "Mann-Whitney U test:\n",
      "  Statistic: 67.0\n",
      "  P-value: 0.16355239476924766\n",
      "  Is there a significant difference: False\n"
     ]
    }
   ],
   "source": [
    "combine_columns_and_test(IB4_IBA1_368, IB4_IBA1_354, 1)"
   ]
  }
 ],
 "metadata": {
  "kernelspec": {
   "display_name": "Python 3",
   "language": "python",
   "name": "python3"
  },
  "language_info": {
   "codemirror_mode": {
    "name": "ipython",
    "version": 3
   },
   "file_extension": ".py",
   "mimetype": "text/x-python",
   "name": "python",
   "nbconvert_exporter": "python",
   "pygments_lexer": "ipython3",
   "version": "3.11.9"
  }
 },
 "nbformat": 4,
 "nbformat_minor": 2
}
